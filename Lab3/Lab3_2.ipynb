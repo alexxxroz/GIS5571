{
 "cells": [
  {
   "cell_type": "code",
   "execution_count": 3,
   "metadata": {},
   "outputs": [],
   "source": [
    "import requests\n",
    "import shutil\n",
    "import zipfile\n",
    "import pandas as pd\n",
    "from io import StringIO\n",
    "import csv"
   ]
  },
  {
   "cell_type": "code",
   "execution_count": 6,
   "metadata": {},
   "outputs": [
    {
     "data": {
      "text/plain": [
       "'station=2&station=3&station=4&station=5&station=6&station=7&station=8&station=9&station=10&station=11&station=12&station=13&station=14&station=15&station=16&station=17&station=18&station=19&station=20&station=21&station=22&station=23&station=24&station=25&station=26&station=27&station=28&station=29&station=30&station=31&station=32&station=33&station=34&station=35&station=36&station=37&station=38&station=39&station=40&station=41&station=42&station=43&station=44&station=45&station=46&station=47&station=48&station=49&station=50&station=51&station=52&station=53&station=54&station=55&station=56&station=57&station=58&station=59&station=60&station=61&station=62&station=63&station=64&station=65&station=66&station=67&station=68&station=69&station=70&station=71&station=72&station=73&station=74&station=75&station=76&station=77&station=78&station=79&station=80&station=81&station=82&station=83&station=84&station=85&station=86&station=87&station=88&station=89&station=90&station=91&station=92&station=93&station=95&station=96&station=97&station=99&station=100&station=101&station=102&station=103&station=104&station=105&station=106&station=107&station=108&station=109&station=110&station=112&station=113&station=114&station=115&station=116&station=117&station=118&station=119&station=120&station=121&station=123&station=124&station=125&station=126&station=127&station=128&station=129&station=130&station=132&station=134&station=135&station=136&station=137&station=138&station=139&station=140&station=141&station=142&station=143&station=148&station=149&station=150&station=152&station=161&station=163&station=172&station=174&'"
      ]
     },
     "execution_count": 6,
     "metadata": {},
     "output_type": "execute_result"
    }
   ],
   "source": [
    "stations = [\n",
    "    2, 3, 4, 5, 6, 7, 8, 9, 10, 11, 12, 13, 14, 15, 16, 17, 18, 19, 20, 21, 22, 23, \n",
    "    24, 25, 26, 27, 28, 29, 30, 31, 32, 33, 34, 35, 36, 37, 38, 39, 40, 41, 42, 43, \n",
    "    44, 45, 46, 47, 48, 49, 50, 51, 52, 53, 54, 55, 56, 57, 58, 59, 60, 61, 62, 63, \n",
    "    64, 65, 66, 67, 68, 69, 70, 71, 72, 73, 74, 75, 76, 77, 78, 79, 80, 81, 82, 83, \n",
    "    84, 85, 86, 87, 88, 89, 90, 91, 92, 93, 95, 96, 97, 99, 100, 101, 102, 103, 104, \n",
    "    105, 106, 107, 108, 109, 110, 112, 113, 114, 115, 116, 117, 118, 119, 120, 121, \n",
    "    123, 124, 125, 126, 127, 128, 129, 130, 132, 134, 135, 136, 137, 138, 139, 140, \n",
    "    141, 142, 143, 148, 149, 150, 152, 161, 163, 172, 174\n",
    "]\n",
    "ids = ''\n",
    "for station in stations:\n",
    "    ids+=f'station={station}&'\n",
    "ids"
   ]
  },
  {
   "cell_type": "code",
   "execution_count": 8,
   "metadata": {},
   "outputs": [
    {
     "data": {
      "text/html": [
       "<div>\n",
       "<style scoped>\n",
       "    .dataframe tbody tr th:only-of-type {\n",
       "        vertical-align: middle;\n",
       "    }\n",
       "\n",
       "    .dataframe tbody tr th {\n",
       "        vertical-align: top;\n",
       "    }\n",
       "\n",
       "    .dataframe thead th {\n",
       "        text-align: right;\n",
       "    }\n",
       "</style>\n",
       "<table border=\"1\" class=\"dataframe\">\n",
       "  <thead>\n",
       "    <tr style=\"text-align: right;\">\n",
       "      <th></th>\n",
       "      <th>Station Name</th>\n",
       "      <th>Latitude</th>\n",
       "      <th>Longitude</th>\n",
       "      <th>Avg Temp</th>\n",
       "    </tr>\n",
       "  </thead>\n",
       "  <tbody>\n",
       "    <tr>\n",
       "      <th>0</th>\n",
       "      <td>Ada</td>\n",
       "      <td>47.32119</td>\n",
       "      <td>-96.51406</td>\n",
       "      <td>65.139</td>\n",
       "    </tr>\n",
       "    <tr>\n",
       "      <th>1</th>\n",
       "      <td>Ada</td>\n",
       "      <td>47.32119</td>\n",
       "      <td>-96.51406</td>\n",
       "      <td>51.513</td>\n",
       "    </tr>\n",
       "    <tr>\n",
       "      <th>2</th>\n",
       "      <td>Ada</td>\n",
       "      <td>47.32119</td>\n",
       "      <td>-96.51406</td>\n",
       "      <td>53.110</td>\n",
       "    </tr>\n",
       "    <tr>\n",
       "      <th>3</th>\n",
       "      <td>Ada</td>\n",
       "      <td>47.32119</td>\n",
       "      <td>-96.51406</td>\n",
       "      <td>42.267</td>\n",
       "    </tr>\n",
       "    <tr>\n",
       "      <th>4</th>\n",
       "      <td>Ada</td>\n",
       "      <td>47.32119</td>\n",
       "      <td>-96.51406</td>\n",
       "      <td>37.651</td>\n",
       "    </tr>\n",
       "    <tr>\n",
       "      <th>...</th>\n",
       "      <td>...</td>\n",
       "      <td>...</td>\n",
       "      <td>...</td>\n",
       "      <td>...</td>\n",
       "    </tr>\n",
       "    <tr>\n",
       "      <th>4180</th>\n",
       "      <td>Zeeland</td>\n",
       "      <td>46.01351</td>\n",
       "      <td>-99.68768</td>\n",
       "      <td>32.350</td>\n",
       "    </tr>\n",
       "    <tr>\n",
       "      <th>4181</th>\n",
       "      <td>Zeeland</td>\n",
       "      <td>46.01351</td>\n",
       "      <td>-99.68768</td>\n",
       "      <td>38.087</td>\n",
       "    </tr>\n",
       "    <tr>\n",
       "      <th>4182</th>\n",
       "      <td>Zeeland</td>\n",
       "      <td>46.01351</td>\n",
       "      <td>-99.68768</td>\n",
       "      <td>35.672</td>\n",
       "    </tr>\n",
       "    <tr>\n",
       "      <th>4183</th>\n",
       "      <td>Zeeland</td>\n",
       "      <td>46.01351</td>\n",
       "      <td>-99.68768</td>\n",
       "      <td>39.618</td>\n",
       "    </tr>\n",
       "    <tr>\n",
       "      <th>4184</th>\n",
       "      <td>Zeeland</td>\n",
       "      <td>46.01351</td>\n",
       "      <td>-99.68768</td>\n",
       "      <td>39.139</td>\n",
       "    </tr>\n",
       "  </tbody>\n",
       "</table>\n",
       "<p>4185 rows × 4 columns</p>\n",
       "</div>"
      ],
      "text/plain": [
       "     Station Name  Latitude  Longitude Avg Temp\n",
       "0             Ada  47.32119  -96.51406   65.139\n",
       "1             Ada  47.32119  -96.51406   51.513\n",
       "2             Ada  47.32119  -96.51406   53.110\n",
       "3             Ada  47.32119  -96.51406   42.267\n",
       "4             Ada  47.32119  -96.51406   37.651\n",
       "...           ...       ...        ...      ...\n",
       "4180      Zeeland  46.01351  -99.68768   32.350\n",
       "4181      Zeeland  46.01351  -99.68768   38.087\n",
       "4182      Zeeland  46.01351  -99.68768   35.672\n",
       "4183      Zeeland  46.01351  -99.68768   39.618\n",
       "4184      Zeeland  46.01351  -99.68768   39.139\n",
       "\n",
       "[4185 rows x 4 columns]"
      ]
     },
     "execution_count": 8,
     "metadata": {},
     "output_type": "execute_result"
    }
   ],
   "source": [
    "url = f'https://ndawn.ndsu.nodak.edu/table.csv?ttype=daily&{ids}begin_date=2024-10-10&end_date=2024-11-10'\n",
    "r = requests.get(url)\n",
    "data = list(csv.reader(StringIO(r.text), delimiter=','))\n",
    "df = pd.DataFrame(data=data[5:], columns=data[3])[['Station Name', 'Latitude','Longitude', 'Avg Temp']]\n",
    "df   "
   ]
  },
  {
   "cell_type": "code",
   "execution_count": 9,
   "metadata": {},
   "outputs": [],
   "source": [
    "df.to_csv(r'C:\\Users\\rozan012\\Documents\\ArcGIS\\Projects\\NDAWN.csv', index=None)"
   ]
  },
  {
   "cell_type": "markdown",
   "metadata": {},
   "source": [
    "# Load table"
   ]
  },
  {
   "cell_type": "code",
   "execution_count": 13,
   "metadata": {},
   "outputs": [],
   "source": [
    "arc_df = arcpy.management.XYTableToPoint(r'C:\\Users\\rozan012\\Documents\\ArcGIS\\Projects\\NDAWN.csv', 'NDAWN', 'Longitude', 'Latitude')"
   ]
  },
  {
   "cell_type": "code",
   "execution_count": 14,
   "metadata": {},
   "outputs": [],
   "source": [
    "IDW = arcpy.sa.Idw(arc_df, 'Avg Temp')"
   ]
  },
  {
   "cell_type": "code",
   "execution_count": 15,
   "metadata": {},
   "outputs": [],
   "source": [
    "Kriging = arcpy.sa.Kriging(arc_df, 'Avg Temp', arcpy.sa.KrigingModelUniversal())"
   ]
  },
  {
   "cell_type": "code",
   "execution_count": 16,
   "metadata": {},
   "outputs": [],
   "source": [
    "Spline = arcpy.sa.Spline(arc_df, 'Avg Temp')"
   ]
  }
 ],
 "metadata": {
  "kernelspec": {
   "display_name": "ArcGISPro",
   "language": "Python",
   "name": "python3"
  },
  "language_info": {
   "file_extension": ".py",
   "name": "python",
   "version": "3"
  }
 },
 "nbformat": 4,
 "nbformat_minor": 2
}
