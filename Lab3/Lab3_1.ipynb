{
 "cells": [
  {
   "cell_type": "code",
   "execution_count": 1,
   "metadata": {},
   "outputs": [],
   "source": [
    "import requests\n",
    "import arcpy\n",
    "import json\n",
    "import zipfile\n",
    "from os import listdir, mkdir\n",
    "from os.path import exists"
   ]
  },
  {
   "cell_type": "markdown",
   "metadata": {},
   "source": [
    "# Adding coords\n",
    "\n",
    "Setting up two points with 8km buffer to later clip the datasets."
   ]
  },
  {
   "cell_type": "code",
   "execution_count": 2,
   "metadata": {},
   "outputs": [],
   "source": [
    "points = [\n",
    "    [-92.148796, 44.127985],\n",
    "    [-92.043726, 44.052865],\n",
    "]\n",
    "\n",
    "\n",
    "output_fc = 'C:/Users/rozan012/Documents/ArcGIS/Projects/Lab3_1/Lab2_2.gdb/PointFeature'\n",
    "\n",
    "arcpy.CreateFeatureclass_management(\n",
    "    out_path='C:/Users/rozan012/Documents/ArcGIS/Projects/Lab3_1/Lab2_2.gdb',\n",
    "    out_name='PointFeature',\n",
    "    geometry_type='POINT',\n",
    "    spatial_reference=arcpy.SpatialReference(4326)\n",
    ")\n",
    "\n",
    "with arcpy.da.InsertCursor(output_fc, ['SHAPE@']) as cursor:\n",
    "    for longitude, latitude in points:\n",
    "        point = arcpy.Point(longitude, latitude)\n",
    "        point_geometry = arcpy.PointGeometry(point, arcpy.SpatialReference(4326))\n",
    "        cursor.insertRow([point_geometry])\n",
    "    \n",
    "buffer_fcs = []\n",
    "for i, point in enumerate(points):\n",
    "    buffer_fc = 'C:/Users/rozan012/Documents/ArcGIS/Projects/Lab3_1/Lab2_2.gdb/BufferFeature'.format(i + 1)\n",
    "    buffer_fcs.append(buffer_fc)\n",
    "    arcpy.Buffer_analysis(output_fc, buffer_fc, '8000 Meters')"
   ]
  },
  {
   "cell_type": "markdown",
   "metadata": {
    "heading_collapsed": true
   },
   "source": [
    "# DEM\n",
    "1. Calculating the slope;\n",
    "2. Clipping the layer;\n",
    "2. Reclassifying the data (the greater the slop the greater the weight)."
   ]
  },
  {
   "cell_type": "code",
   "execution_count": 3,
   "metadata": {
    "hidden": true
   },
   "outputs": [],
   "source": [
    "raster_layer = 'C:/Users/rozan012/Documents/ArcGIS/Projects/Lab3_1/slope'  \n",
    "\n",
    "clipped_raster = 'C:/Users/rozan012/Documents/ArcGIS/Projects/Lab3_1/Lab2_2.gdb/ClippedRaster'\n",
    "\n",
    "arcpy.management.Clip(raster_layer, \"#\", clipped_raster, buffer_fc, \"#\", \"ClippingGeometry\", \"NO_MAINTAIN_EXTENT\")\n",
    "\n",
    "slope_reclass = arcpy.sa.Reclassify(\"ClippedRaster\", \"Value\", \"0 7 1;7 14 2;14 21 3;21 28 4;28 35 5;35 42 6;42 49 7;49 56 8;56 63 9; 63 76 10\", \"NODATA\"); "
   ]
  },
  {
   "cell_type": "markdown",
   "metadata": {},
   "source": [
    "# NLCD\n",
    "1. Clipping the dataset;\n",
    "2. Reclassifying the data (the higher the weight the worse)."
   ]
  },
  {
   "cell_type": "code",
   "execution_count": 4,
   "metadata": {},
   "outputs": [
    {
     "data": {
      "text/plain": [
       "'95 2'"
      ]
     },
     "execution_count": 4,
     "metadata": {},
     "output_type": "execute_result"
    }
   ],
   "source": [
    "'11 10' # Open Water\n",
    "'21 0' # Developed, Open Space\n",
    "'22 0' #Developed, Low Intensity\n",
    "'23 0' #Developed, Medium Intensity\n",
    "'24 0' #Developed, High Intensity\n",
    "'31 0' #Barren Land\n",
    "'41 2' #Deciduous Forest\n",
    "'42 2' #Evergreen Forest\n",
    "'43 2' #Mixed Forest\n",
    "'52 5' #Shrub/Scrub\n",
    "'71 8' #Herbaceous\n",
    "'81 8' #Hay/Pasture\n",
    "'82 10' #Cultivated Crops\n",
    "'90 2' #Woody Wetlands\n",
    "'95 2' #Emergent Herbaceous Wetlands"
   ]
  },
  {
   "cell_type": "code",
   "execution_count": 5,
   "metadata": {
    "scrolled": false
   },
   "outputs": [],
   "source": [
    "path = r'C:\\Users\\rozan012\\Documents\\ArcGIS\\Projects\\Lab2_2\\lc\\NLCD 2019 - Land Cover.lyr' \n",
    "\n",
    "out_path = 'C:/Users/rozan012/Documents/ArcGIS/Projects/Lab2_2/Lab2_2.gdb/ClippedNLCD'\n",
    "\n",
    "arcpy.management.Clip(path, \"#\", out_path, buffer_fcs[0], \"#\", \"ClippingGeometry\", \"NO_MAINTAIN_EXTENT\")\n",
    "\n",
    "lc_reclass = arcpy.sa.Reclassify(\"ClippedNLCD\", \"Value\", \"11 10; 21 0; 22 0; 23 0; 24 0; 31 0; 41 2; 42 2; 43 2; 52 5; 71 8; 81 8; 82 10; 90 2; 95 2\", \"DATA\")"
   ]
  },
  {
   "cell_type": "markdown",
   "metadata": {},
   "source": [
    "# Generating 3 cost surfaces"
   ]
  },
  {
   "cell_type": "code",
   "execution_count": 8,
   "metadata": {},
   "outputs": [],
   "source": [
    "for idx, w in enumerate([0.25, 0.5, 0.75]):\n",
    "    lc_weight = w\n",
    "    slope_weight = 1-w\n",
    "    cost_surf = arcpy.ia.RasterCalculator([lc_reclass, slope_reclass], \n",
    "                                          ['lc_reclass', 'slope_reclass'],\n",
    "                                          expression=f\"({lc_weight} * lc_reclass) + ({slope_weight} * slope_reclass)\")\n",
    "    output_path = f\"C:/Users/rozan012/Documents/ArcGIS/Projects/Lab3_1/cost_surface_{idx}.tif\"\n",
    "    cost_surf.save(output_path)"
   ]
  },
  {
   "cell_type": "markdown",
   "metadata": {},
   "source": [
    "# Creating routes"
   ]
  },
  {
   "cell_type": "code",
   "execution_count": 11,
   "metadata": {},
   "outputs": [],
   "source": [
    "for idx, w in enumerate([0.25, 0.5, 0.75]):\n",
    "    lc_weight = w\n",
    "    slope_weight = 1-w\n",
    "    cost_surf = arcpy.ia.RasterCalculator([lc_reclass, slope_reclass], \n",
    "                                          ['lc_reclass', 'slope_reclass'],\n",
    "                                          expression=f\"({lc_weight} * lc_reclass) + ({slope_weight} * slope_reclass)\")\n",
    "    \n",
    "    opt_path = arcpy.sa.OptimalRegionConnections(\"PointFeature\", f'cost_surf_{idx}', in_cost_raster = cost_surf)"
   ]
  }
 ],
 "metadata": {
  "kernelspec": {
   "display_name": "ArcGISPro",
   "language": "Python",
   "name": "python3"
  },
  "language_info": {
   "file_extension": ".py",
   "name": "python",
   "version": "3"
  }
 },
 "nbformat": 4,
 "nbformat_minor": 2
}
