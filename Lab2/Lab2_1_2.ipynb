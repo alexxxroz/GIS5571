{
 "cells": [
  {
   "cell_type": "code",
   "execution_count": 1,
   "metadata": {
    "id": "LBOk6XbnaR0L"
   },
   "outputs": [],
   "source": [
    "import requests\n",
    "import arcpy\n",
    "import json\n",
    "import zipfile"
   ]
  },
  {
   "cell_type": "markdown",
   "metadata": {
    "id": "nStkXmItaR0O"
   },
   "source": [
    "# 2. PRISM data"
   ]
  },
  {
   "cell_type": "markdown",
   "metadata": {
    "id": "3qyYdOr-aR0P"
   },
   "source": [
    "`PRISM_<var>_<stability>_<scale&version>_<time period>[_all][_<format>].<ext>`\n",
    "    \n",
    "https://prism.oregonstate.edu/documents/PRISM_downloads_FTP.pdf\n",
    "\n",
    "https://ftp.prism.oregonstate.edu/normals/monthly/4km/ppt/"
   ]
  },
  {
   "cell_type": "code",
   "execution_count": 2,
   "metadata": {
    "id": "94nRqlroaR0P",
    "scrolled": true
   },
   "outputs": [],
   "source": [
    "r = requests.get(\n",
    "    'https://ftp.prism.oregonstate.edu/normals/monthly/4km/ppt/PRISM_ppt_30yr_normal_4kmM4_all_bil.zip'\n",
    ")\n",
    "\n",
    "with open(r'C:\\Users\\rozan012\\Documents\\ArcGIS\\Projects\\Lab2_1_2\\PRISM.zip', 'wb') as f:\n",
    "    f.write(r.content)\n",
    "\n",
    "with zipfile.ZipFile(r'C:\\Users\\rozan012\\Documents\\ArcGIS\\Projects\\Lab2_1_2\\PRISM.zip', 'r') as zip_ref:\n",
    "        zip_ref.extractall('prism')"
   ]
  },
  {
   "cell_type": "code",
   "execution_count": 3,
   "metadata": {
    "id": "ddISHHkCaR0P",
    "outputId": "e27f4f06-06ce-4402-c4e8-395f3afd6ce9",
    "scrolled": true
   },
   "outputs": [
    {
     "data": {
      "text/html": [
       "<div class='gpresult'><h2>Messages</h2><div id='messages'>Start Time: Sunday, October 20, 2024 3:21:28 PM<br>Adding Timestamp to AMD_mosaic_CAT...<br>Succeeded at Sunday, October 20, 2024 3:21:28 PM (Elapsed Time: 0.22 seconds)<br></div><div id = 'default' /></div></div>"
      ],
      "text/plain": [
       "<Result 'mosaic\\\\Footprint'>"
      ]
     },
     "execution_count": 3,
     "metadata": {},
     "output_type": "execute_result"
    }
   ],
   "source": [
    "mosaic = arcpy.management.CreateMosaicDataset(\n",
    "     in_workspace = r\"C:\\Users\\rozan012\\Documents\\ArcGIS\\Projects\\Lab2_1_2\\Lab2_1_2.gdb\",\n",
    "     in_mosaicdataset_name = \"mosaic\",\n",
    "    coordinate_system = arcpy.SpatialReference(3857),\n",
    ")\n",
    "\n",
    "raster = arcpy.management.AddRastersToMosaicDataset(\n",
    "    in_mosaic_dataset = mosaic,\n",
    "    raster_type = 'Raster Dataset',\n",
    "    input_path = r\"C:\\Users\\rozan012\\Documents\\ArcGIS\\Projects\\Lab2_1_2\\prism\"\n",
    ")\n",
    "\n",
    "arcpy.management.CalculateField(\n",
    "    in_table = r\"mosaic\\Footprint\",\n",
    "    field = \"Variable\",\n",
    "    expression = '\"Precip\"',\n",
    "    expression_type = \"PYTHON3\",\n",
    "    code_block = '',\n",
    "    field_type = 'TEXT',\n",
    ")\n",
    "arcpy.management.CalculateField(\n",
    "    in_table = r\"mosaic\\Footprint\",\n",
    "    field = \"Timestamp\",\n",
    "    expression = 'DateAdd(Date(1991, 0, 1), $feature.OBJECTID-1, \"year\")',\n",
    "    expression_type = \"Arcade\",\n",
    "    code_block = '',\n",
    "    field_type = 'Date',\n",
    ")"
   ]
  },
  {
   "cell_type": "code",
   "execution_count": 4,
   "metadata": {
    "id": "FFyQeVOeaR0P",
    "outputId": "1b695cfe-4995-488d-dd05-963fdf69098b"
   },
   "outputs": [
    {
     "data": {
      "text/html": [
       "<div class='gpresult'><h2>Messages</h2><div id='messages'>Start Time: Sunday, October 20, 2024 3:21:52 PM<br>Succeeded at Sunday, October 20, 2024 3:21:53 PM (Elapsed Time: 1.41 seconds)<br></div><div id = 'default' /></div></div>"
      ],
      "text/plain": [
       "<Result 'mosaic'>"
      ]
     },
     "execution_count": 4,
     "metadata": {},
     "output_type": "execute_result"
    }
   ],
   "source": [
    "arcpy.management.BuildMultidimensionalInfo(\n",
    "    in_mosaic_dataset = \"mosaic\",\n",
    "    variable_field = \"Variable\",\n",
    "    dimension_fields = \"Timestamp\",\n",
    ")"
   ]
  },
  {
   "cell_type": "code",
   "execution_count": 5,
   "metadata": {
    "id": "GwLzq_vjaR0P"
   },
   "outputs": [],
   "source": [
    "multidim = arcpy.md.MakeMultidimensionalRasterLayer(\n",
    "    in_multidimensional_raster = 'mosaic',\n",
    "    out_multidimensional_raster_layer = r\"C:\\Users\\rozan012\\Documents\\ArcGIS\\Projects\\Lab2_1_2\\prism\",\n",
    "    variables = ['Precip'],\n",
    "    dimension_def = 'ALL'\n",
    ")"
   ]
  },
  {
   "cell_type": "code",
   "execution_count": 6,
   "metadata": {
    "id": "CsfkJ1R-aR0P",
    "outputId": "fcb414fd-26f2-4f43-f6a3-9fb5b2944b73"
   },
   "outputs": [
    {
     "data": {
      "text/html": [
       "<div class='gpresult'><h2>Messages</h2><div id='messages' data-messages='[\"Start Time: Sunday, October 20, 2024 3:22:04 PM\",\"WARNING 110301: The space-time cube cell size was adjusted to 4638.875.\",\"WARNING 110013: The default Time Step Interval is 1 year.\",\"WARNING 110067: Your spatial reference is not compatible with CF Conventions.  You may experience difficulties using the resulting space-time cube with other NetCDF tools and software.\",{\"element\":\"content\",\"data\":\"The space time cube has aggregated 1011590996 points into 1112760 fishnet grid locations over 13 time step intervals.  Each location is a 4638.88 meters by 4638.88 meters square.  The entire space time cube spans an area 6517620.01 meters west to east and 3673989.36 meters north to south.  Each of the time step intervals is 1 year in duration so the entire time period covered by the space time cube is 13 years.  Of the 1112760 total locations, 629919 (56.61%) contain at least one point for at least one time step interval.  These 629919 locations comprise 8188947 space time bins of which 14458094 (176.56%) have point counts greater than zero.  There is not a statistically significant increase or decrease in point counts over time.\"},[{\"element\":\"table\",\"data\":[[{\"data\":\"Input feature time extent\",\"prop\":{\"rowspan\":2}},\"1991-01-01 00:00:00\"],[{\"data\":\"to 2003-01-01 00:00:00\",\"prop\":{\"text-align\":\"right\"}}],[\"\",\"\"],[\"Number of time steps\",\"13\"],[\"Time step interval\",\"1 year\"],[\"Time step alignment\",\"End\"],[\"\",\"\"],[\"First time step temporal bias\",\"100.00%\"],[{\"data\":\"First time step interval\",\"prop\":{\"rowspan\":4}},\"after\"],[{\"data\":\"1990-01-01 00:00:00\",\"prop\":{\"text-align\":\"right\"}}],[{\"data\":\"to on or before\",\"prop\":{\"text-align\":\"right\"}}],[{\"data\":\"1991-01-01 00:00:00\",\"prop\":{\"text-align\":\"right\"}}],[\"\",\"\"],[\"Last time step temporal bias\",\"0.00%\"],[{\"data\":\"Last time step interval\",\"prop\":{\"rowspan\":4}},\"after\"],[{\"data\":\"2002-01-01 00:00:00\",\"prop\":{\"text-align\":\"right\"}}],[{\"data\":\"to on or before\",\"prop\":{\"text-align\":\"right\"}}],[{\"data\":\"2003-01-01 00:00:00\",\"prop\":{\"text-align\":\"right\"}}],[\"\",\"\"],[\"Coordinate System\",\"WGS 1984 Web Mercator Auxiliary Sphere\"],[\"Cube extent across space\",\"(coordinates in meters)\"],[\"Min X\",\"-13917257.2777\"],[\"Min Y\",\"2761026.2864\"],[\"Max X\",\"-7400426.8150\"],[\"Max Y\",\"6435460.7179\"],[\"Rows\",\"792\"],[\"Columns\",\"1405\"],[\"Total bins\",\"14465880\"]],\"elementProps\":{\"striped\":\"true\",\"noHeader\":true,\"title\":\"Space Time Cube Characteristics\",\"0\":{\"align\":\"left\",\"pad\":\"0px\",\"wrap\":true},\"1\":{\"align\":\"right\",\"pad\":\"0px\",\"wrap\":true}}}],[{\"element\":\"table\",\"data\":[[\"% of locations excluded due to unfilled bins\",\"482841 (  43.39%)\"],[\"- Total number\",\"482841\"],[\"Total number of locations\",\"629919\"],[\"- associated bins\",\"8188947\"],[\"% of included locations with estimated bins\",\"  2.76%\"],[\"- Total number\",\"17374\"],[\"% of all bins that were estimated\",\"  0.29%\"],[\"- Total number\",\"23874\"]],\"elementProps\":{\"striped\":\"true\",\"title\":\"Summary Field - PRECIP_NONE_ZEROS\",\"0\":{\"align\":\"left\",\"pad\":\"0px\",\"wrap\":true},\"1\":{\"align\":\"right\",\"pad\":\"0px\",\"wrap\":true}}}],[{\"element\":\"table\",\"data\":[[\"Trend direction\",\"Not Significant\"],[\"Trend statistic\",\"0.9151\"],[\"Trend p-value\",\"0.3601\"]],\"elementProps\":{\"striped\":\"true\",\"noHeader\":true,\"title\":\"Overall Data Trend - PRECIP_NONE_ZEROS\",\"0\":{\"align\":\"left\",\"pad\":\"0px\",\"wrap\":true},\"1\":{\"align\":\"right\",\"pad\":\"0px\",\"wrap\":true}}}],\"Succeeded at Sunday, October 20, 2024 3:22:08 PM (Elapsed Time: 4.88 seconds)\"]' data-show='true'><div id = 'default' /></div></div>"
      ],
      "text/plain": [
       "<Result 'C:\\\\Users\\\\rozan012\\\\Documents\\\\ArcGIS\\\\Projects\\\\Lab2_1_2\\\\prism\\\\prism.nc'>"
      ]
     },
     "execution_count": 6,
     "metadata": {},
     "output_type": "execute_result"
    }
   ],
   "source": [
    "arcpy.stpm.CreateSpaceTimeCubeMDRasterLayer(\n",
    "    in_md_raster = multidim,\n",
    "    output_cube = r\"C:\\Users\\rozan012\\Documents\\ArcGIS\\Projects\\Lab2_1_2\\prism.nc\",\n",
    ")"
   ]
  }
 ],
 "metadata": {
  "colab": {
   "provenance": []
  },
  "kernelspec": {
   "display_name": "ArcGISPro",
   "language": "Python",
   "name": "python3"
  },
  "language_info": {
   "file_extension": ".py",
   "name": "python",
   "version": "3"
  }
 },
 "nbformat": 4,
 "nbformat_minor": 1
}
