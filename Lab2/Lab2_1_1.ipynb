{
 "cells": [
  {
   "cell_type": "code",
   "execution_count": 1,
   "metadata": {
    "id": "LBOk6XbnaR0L"
   },
   "outputs": [],
   "source": [
    "import requests\n",
    "import arcpy\n",
    "import json\n",
    "import zipfile"
   ]
  },
  {
   "cell_type": "markdown",
   "metadata": {
    "id": "sS8M6u7jaR0M"
   },
   "source": [
    "# 1. DNR FPT data"
   ]
  },
  {
   "cell_type": "code",
   "execution_count": 2,
   "metadata": {
    "id": "mMVCSxGtaR0N"
   },
   "outputs": [],
   "source": [
    "r = requests.get('https://resources.gisdata.mn.gov/pub/data/elevation/lidar/county/chisago/laz/3542-20-32.laz')\n",
    "\n",
    "with open(r'C:\\Users\\rozan012\\Documents\\ArcGIS\\Projects\\Lab2\\sample.laz', 'wb') as f:\n",
    "    f.write(r.content)"
   ]
  },
  {
   "cell_type": "code",
   "execution_count": 3,
   "metadata": {
    "id": "eIEbZmTGaR0N",
    "outputId": "f4675eb1-c6ec-4710-b77f-6f22532735ca"
   },
   "outputs": [
    {
     "data": {
      "text/html": [
       "<div class='gpresult'><h2>Messages</h2><div id='messages'>Start Time: Sunday, October 20, 2024 3:05:39 PM<br>Succeeded at Sunday, October 20, 2024 3:05:39 PM (Elapsed Time: 0.41 seconds)<br></div><div id = 'default' /></div></div>"
      ],
      "text/plain": [
       "<Result 'C:\\\\Users\\\\rozan012\\\\Documents\\\\ArcGIS\\\\Projects\\\\Lab2\\\\TIN'>"
      ]
     },
     "execution_count": 3,
     "metadata": {},
     "output_type": "execute_result"
    }
   ],
   "source": [
    "arcpy.conversion.ConvertLas(r'C:\\Users\\rozan012\\Documents\\ArcGIS\\Projects\\Lab2\\sample.laz',\n",
    "                                 r'C:\\Users\\rozan012\\Documents\\ArcGIS\\Projects\\Lab2',\n",
    "                                 out_las_dataset=r'C:\\Users\\rozan012\\Documents\\ArcGIS\\Projects\\Lab2\\sample.lasd',\n",
    "                                )\n",
    "arcpy.conversion.LasDatasetToRaster(\n",
    "    r'C:\\Users\\rozan012\\Documents\\ArcGIS\\Projects\\Lab2\\sample.lasd',\n",
    "    r'C:\\Users\\rozan012\\Documents\\ArcGIS\\Projects\\Lab2\\sample_DEM.tif',\n",
    ")\n",
    "arcpy.ddd.LasDatasetToTin(\n",
    "    r'C:\\Users\\rozan012\\Documents\\ArcGIS\\Projects\\Lab2\\sample.lasd',\n",
    "    r'C:\\Users\\rozan012\\Documents\\ArcGIS\\Projects\\Lab2\\TIN',\n",
    "    \"WINDOW_SIZE\",\n",
    "    max_nodes=1.4e7\n",
    ")"
   ]
  },
  {
   "cell_type": "code",
   "execution_count": 8,
   "metadata": {
    "id": "LfFVFqFlaR0O"
   },
   "outputs": [],
   "source": [
    "aprx = arcpy.mp.ArcGISProject(\"CURRENT\")\n",
    "\n",
    "Layout = aprx.listLayouts(\"TIN\")[0]"
   ]
  },
  {
   "cell_type": "code",
   "execution_count": 10,
   "metadata": {
    "id": "0YvD_0TlaR0O",
    "outputId": "986e1a92-9641-4db6-9ecb-16cd9ee91d11"
   },
   "outputs": [
    {
     "data": {
      "text/plain": [
       "'C:\\\\Users\\\\rozan012\\\\Documents\\\\ArcGIS\\\\Projects\\\\Lab2_1_1\\\\TIN_export.pdf'"
      ]
     },
     "execution_count": 10,
     "metadata": {},
     "output_type": "execute_result"
    }
   ],
   "source": [
    "Layout.exportToPDF(r'C:\\Users\\rozan012\\Documents\\ArcGIS\\Projects\\Lab2_1_1\\TIN_export.pdf')"
   ]
  },
  {
   "cell_type": "code",
   "execution_count": 12,
   "metadata": {
    "id": "Y4v_-xBHaR0O"
   },
   "outputs": [],
   "source": [
    "Layout_2 = aprx.listLayouts(\"DEM\")[0]"
   ]
  },
  {
   "cell_type": "code",
   "execution_count": 13,
   "metadata": {
    "id": "7f5HJDBcaR0O",
    "outputId": "c70f9bca-c621-4777-9ea5-62f6da1c0ff7"
   },
   "outputs": [
    {
     "data": {
      "text/plain": [
       "'C:\\\\Users\\\\rozan012\\\\Documents\\\\ArcGIS\\\\Projects\\\\Lab2_1_1\\\\DEM_export.pdf'"
      ]
     },
     "execution_count": 13,
     "metadata": {},
     "output_type": "execute_result"
    }
   ],
   "source": [
    "Layout_2.exportToPDF(r'C:\\Users\\rozan012\\Documents\\ArcGIS\\Projects\\Lab2_1_1\\DEM_export.pdf')"
   ]
  }
 ],
 "metadata": {
  "colab": {
   "provenance": []
  },
  "kernelspec": {
   "display_name": "ArcGISPro",
   "language": "Python",
   "name": "python3"
  },
  "language_info": {
   "file_extension": ".py",
   "name": "python",
   "version": "3"
  }
 },
 "nbformat": 4,
 "nbformat_minor": 1
}
